{
 "cells": [
  {
   "cell_type": "code",
   "execution_count": 3,
   "id": "577be37a-74a8-4390-9f31-aa9486c9672d",
   "metadata": {},
   "outputs": [],
   "source": [
    "import pandas as pd\n",
    "import numpy as np\n",
    "import matplotlib.pyplot as plt\n",
    "import seaborn as sns\n",
    "\n",
    "import nltk\n",
    "import re\n",
    "from nltk.corpus import stopwords\n",
    "from nltk.stem import PorterStemmer\n",
    "\n",
    "from sklearn.model_selection import train_test_split\n",
    "from sklearn.feature_extraction.text import TfidfVectorizer\n",
    "from sklearn.naive_bayes import MultinomialNB\n",
    "from sklearn.metrics import confusion_matrix, classification_report, accuracy_score\n",
    "from sklearn.model_selection import GridSearchCV\n",
    "\n",
    "import pickle\n",
    "\n",
    "import streamlit as st"
   ]
  },
  {
   "cell_type": "code",
   "execution_count": 9,
   "id": "de15bc37-1457-4d15-b99a-f20cb14335e7",
   "metadata": {},
   "outputs": [],
   "source": [
    "df = pd.read_csv('/Users/amitha/Downloads/TASK4/spam.csv', encoding='latin-1')\n",
    "df = df[['v1', 'v2']]  # Keep only relevant columns\n",
    "df.columns = ['label', 'message']"
   ]
  },
  {
   "cell_type": "code",
   "execution_count": 11,
   "id": "650eaf86-706f-4f51-8995-b2f6d9e37fbd",
   "metadata": {},
   "outputs": [
    {
     "name": "stdout",
     "output_type": "stream",
     "text": [
      "  label                                            message\n",
      "0   ham  Go until jurong point, crazy.. Available only ...\n",
      "1   ham                      Ok lar... Joking wif u oni...\n",
      "2  spam  Free entry in 2 a wkly comp to win FA Cup fina...\n",
      "3   ham  U dun say so early hor... U c already then say...\n",
      "4   ham  Nah I don't think he goes to usf, he lives aro...\n",
      "label\n",
      "ham     4825\n",
      "spam     754\n",
      "Name: count, dtype: int64\n"
     ]
    },
    {
     "data": {
      "image/png": "[encoded data removed]",
      "text/plain": [
       "<Figure size 640x480 with 1 Axes>"
      ]
     },
     "metadata": {},
     "output_type": "display_data"
    }
   ],
   "source": [
    "print(df.head())\n",
    "print(df['label'].value_counts())\n",
    "sns.countplot(x='label', data=df)\n",
    "plt.show()\n"
   ]
  },
  {
   "cell_type": "code",
   "execution_count": 13,
   "id": "fc4f9331-dd4d-44d7-9039-607076765203",
   "metadata": {},
   "outputs": [
    {
     "name": "stderr",
     "output_type": "stream",
     "text": [
      "[nltk_data] Downloading package stopwords to\n",
      "[nltk_data]     /Users/amitha/nltk_data...\n",
      "[nltk_data]   Package stopwords is already up-to-date!\n"
     ]
    }
   ],
   "source": [
    "nltk.download('stopwords')\n",
    "ps = PorterStemmer()\n",
    "\n",
    "stop_words = set(stopwords.words('english'))  # Download once outside the loop\n",
    "\n",
    "corpus = []\n",
    "for msg in df['message']:\n",
    "    review = re.sub('[^a-zA-Z]', ' ', msg)\n",
    "    review = review.lower()\n",
    "    review = review.split()\n",
    "    review = [ps.stem(word) for word in review if word not in stop_words]\n",
    "    corpus.append(' '.join(review))\n",
    "\n",
    "df['cleaned_message'] = corpus\n"
   ]
  },
  {
   "cell_type": "code",
   "execution_count": 14,
   "id": "2c62c98b-7c07-4d25-a4cd-72a8a903b7c9",
   "metadata": {},
   "outputs": [],
   "source": [
    "#Text Vectorization\n",
    "tfidf = TfidfVectorizer(max_features=3000)\n",
    "X = tfidf.fit_transform(df['cleaned_message']).toarray()\n",
    "y = pd.get_dummies(df['label'])['spam']"
   ]
  },
  {
   "cell_type": "code",
   "execution_count": 15,
   "id": "29c76e52-319c-4de4-aad2-0bc98c095a5c",
   "metadata": {},
   "outputs": [],
   "source": [
    "#Train-Test Split\n",
    "X_train, X_test, y_train, y_test = train_test_split(X, y, test_size=0.2, random_state=42)\n"
   ]
  },
  {
   "cell_type": "code",
   "execution_count": 16,
   "id": "e44724da-e401-4a9a-b8ce-797047ca5630",
   "metadata": {},
   "outputs": [],
   "source": [
    "#Model Building - naive bayes\n",
    "model = MultinomialNB()\n",
    "model.fit(X_train, y_train)\n",
    "y_pred = model.predict(X_test)"
   ]
  },
  {
   "cell_type": "code",
   "execution_count": 17,
   "id": "e413cae9-caad-463e-95ff-8013f3d87c9f",
   "metadata": {},
   "outputs": [
    {
     "name": "stdout",
     "output_type": "stream",
     "text": [
      "[[958   1]\n",
      " [ 24 133]]\n",
      "              precision    recall  f1-score   support\n",
      "\n",
      "       False       0.98      1.00      0.99       959\n",
      "        True       0.99      0.85      0.91       157\n",
      "\n",
      "    accuracy                           0.98      1116\n",
      "   macro avg       0.98      0.92      0.95      1116\n",
      "weighted avg       0.98      0.98      0.98      1116\n",
      "\n",
      "Accuracy: 0.9775985663082437\n"
     ]
    }
   ],
   "source": [
    "#Model Evaluation\n",
    "print(confusion_matrix(y_test, y_pred))\n",
    "print(classification_report(y_test, y_pred))\n",
    "print('Accuracy:', accuracy_score(y_test, y_pred))"
   ]
  },
  {
   "cell_type": "code",
   "execution_count": 23,
   "id": "ebe39560-84f1-49ee-85d9-d1a31c8acc76",
   "metadata": {},
   "outputs": [
    {
     "name": "stdout",
     "output_type": "stream",
     "text": [
      "{'alpha': 0.1}\n"
     ]
    }
   ],
   "source": [
    "#Hyperparameter Tuning\n",
    "parameters = {'alpha': [0.1, 0.5, 1.0]}\n",
    "grid_search = GridSearchCV(MultinomialNB(), parameters)\n",
    "grid_search.fit(X_train, y_train)\n",
    "\n",
    "print(grid_search.best_params_)\n"
   ]
  },
  {
   "cell_type": "code",
   "execution_count": 24,
   "id": "cb37293a-fe54-4e5a-986b-b6939cb1c86b",
   "metadata": {},
   "outputs": [],
   "source": [
    "#Save the model and TF-IDF vectorizer\n",
    "pickle.dump(model, open('spam_detector.pkl', 'wb'))\n",
    "pickle.dump(tfidf, open('vectorizer.pkl', 'wb'))\n"
   ]
  }
 ],
 "metadata": {
  "kernelspec": {
   "display_name": "Python 3 (ipykernel)",
   "language": "python",
   "name": "python3"
  },
  "language_info": {
   "codemirror_mode": {
    "name": "ipython",
    "version": 3
   },
   "file_extension": ".py",
   "mimetype": "text/x-python",
   "name": "python",
   "nbconvert_exporter": "python",
   "pygments_lexer": "ipython3",
   "version": "3.12.4"
  }
 },
 "nbformat": 4,
 "nbformat_minor": 5
}
